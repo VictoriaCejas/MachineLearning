{
 "cells": [
  {
   "cell_type": "markdown",
   "metadata": {},
   "source": [
    "# TP 1: Análisis Exploratorio de Datos"
   ]
  },
  {
   "cell_type": "markdown",
   "metadata": {},
   "source": [
    "**Integrantes:**\n",
    "- Cejas, Victoria\n",
    "- Festa, Georgina"
   ]
  },
  {
   "cell_type": "markdown",
   "metadata": {},
   "source": [
    "**Fecha de entrega:** 1 de Mayo del 2020"
   ]
  },
  {
   "cell_type": "markdown",
   "metadata": {},
   "source": [
    "## Información sobre el dataset:\n",
    "*El dataset que se va a trabajar durante este trabajo práctico está compuesto por 142 columnas y 2.600.000 filas. El mismo contiene datos historicos de préstamos emitidos en el periodo 2010-2018*"
   ]
  },
  {
   "cell_type": "markdown",
   "metadata": {},
   "source": [
    "Del dataset original se selecciono un subconjunto de variables, ya que el mismo era de gran tamaño, lo cual volvía muy complejo el modelo. Sumado a esto, se hizo un análisis de los datos en función al taget elegido para así poder seleccionar aquellas variables consideradas relevantes. \n",
    "Esto dio como resultado un nuevo conjunto de datos conformado por 23 columnas y 1.300.000 filas.\n",
    "\n",
    "**Sobre el tratamiento de las filas:**\n",
    "Se eliminaron aquellas filas donde el valor de la variable de la columna \"load_status\" era diferente de fully paid, charge off o default ya que las mismas no podían ser clasificadas de forma que la variable de salida sea binaria."
   ]
  },
  {
   "cell_type": "markdown",
   "metadata": {},
   "source": [
    "## Diccionario de datos\n",
    " \n",
    "| Variable      |Definición                                                                | ¿Es utilizada? | Entrada/Salida |\n",
    "|:--------------|:-------------------------------------------------------------------------|:--------------|:----------------|\n",
    "| acc_now_delinq | Número de cuentas en el que el prestatario está en mora.               | SI           | ENTRADA              |\n",
    "| annual_inc  | Ingreso anual informado proporcionado por el prestatario.              | SI           | ENTRADA              |\n",
    "| delinq_amnt  | Monto adeudado por las cuentas que el prestatario está en mora actualmente.                | SI           | ENTRADA              |\n",
    "| disbursement_method  | Método por el cual el pestatario recibe su préstamo. Puede ser CASH (efectivo), DIRECT PAY (pago directo).                 | NO           | -              |\n",
    "| dti  | Relación entre los pagos mensuales totales de la deuda dividido por el ingreso mensual informado del prestatario.                 | SI           | ENTRADA              |\n",
    "| earliest_cr_line  | Mes en el que se abrió la primera línea de préstamo informada por el prestatario                 | NO           | -              |\n",
    "| emp_length  | Duración del empleo en años.                  | SI           | ENTRADA             |\n",
    "| emp_title  | El título del trabajo proporcionado por el prestatario al solicitar el préstamo.                 | NO           | -              |\n",
    "| funded_amnt  | Monto total comprometido con el préstamo hasta el momento.                 | SI           | ENTRADA              |\n",
    "| grade  | Tipo de préstamo al que puede acceder el prestatario en función a su perfil de deuda.                 | SI           | ENTRADA              |\n",
    "| home_ownership  | El estado de propiedad de la vivienda del prestatario.                  | SI           | ENTRADA              |\n",
    "| installment  | Pago/cuota mensual del préstamo.                 | SI           | ENTRADA              |\n",
    "| int_rate  | Tasa de interés del préstamo.                | SI           | ENTRADA              |\n",
    "| issue_d  | Mes en el que se financió el préstamo.                 | NO           | -              |\n",
    "| last_pymnt_amnt  | Monto del último pago recibido.                 | NO           | -              |\n",
    "| loan_status   | Estado actual del préstamo.                 | SI           | SALIDA              |\n",
    "| open_acc  | Cantidad de créditos activos que posee el prestatario               | NO           | -              |\n",
    "| purpose  | Propósito del préstamo definido por el préstatario para la solicitud de préstamo                | SI           | ENTRADA              |\n",
    "| term  | Número de meses de pago del préstamo.                 | SI           | ENTRADA              |\n",
    "| title  | El título del préstamo proporcionado por el prestatario.                | NO           | -              |\n",
    "| tot_coll_amt  | Monto total de cobro adeudado.                 | NO           | -              |\n",
    "| total_bal_ex_mort  | Saldo total del crédito excluyendo la hipoteca.               | NO           | -              |\n",
    "| total_pymnt  | Pagos recibidos hasta la fecha.               | SI           | ENTRADA              |"
   ]
  },
  {
   "cell_type": "code",
   "execution_count": null,
   "metadata": {},
   "outputs": [],
   "source": [
    "import pandas as pd\n",
    "import matplotlib.pyplot as plt\n",
    "import numpy as np\n",
    "import seaborn as sb\n",
    "import itertools\n",
    "import warnings\n",
    "import plotly.express as px\n",
    "from sklearn.preprocessing import minmax_scale\n",
    "warnings.filterwarnings(\"ignore\")"
   ]
  },
  {
   "cell_type": "code",
   "execution_count": null,
   "metadata": {},
   "outputs": [],
   "source": [
    "#Importar csv\n",
    "original_data=pd.read_csv('dataset/loans_data.csv')"
   ]
  },
  {
   "cell_type": "code",
   "execution_count": null,
   "metadata": {},
   "outputs": [],
   "source": [
    "#Datos originales\n",
    "original_data.head()"
   ]
  },
  {
   "cell_type": "markdown",
   "metadata": {},
   "source": [
    "## Variable de salida:\n",
    "La variable de salida **\"loan_status\"** puede tener los siguientes valores:\n",
    " - **Fully paid (Totalmente pagado):** En el caso de que el préstamo haya sido pagado en su totalidad.\n",
    " - **No paid (No pagado):** En el caso de que el préstamo no se haya pagado en su totalidad\n",
    " \n",
    "Originalmente en el dataset está variable podía contener alguno de los siguientes valores:\n",
    "- Current\n",
    "- Fully Paid\n",
    "- Late (31 - 120 days)\n",
    "- In Grace Period\n",
    "- Charged Off\n",
    "- Late (16-30 days)\n",
    "\n",
    "Pero decidimos simplificar los valores de la variable target porque consideramos que los valores elegidos se adaptan mejor a nuestro modelo, ya que *lo que queremos predecir es si un préstamo se pagó o no se pagó.*"
   ]
  },
  {
   "cell_type": "code",
   "execution_count": null,
   "metadata": {},
   "outputs": [],
   "source": [
    "#Quitar status de loan que no nos interesan\n",
    "\n",
    "new_data=original_data.drop(original_data[original_data['loan_status']=='Current'].index)\n",
    "\n",
    "new_data=new_data.drop(new_data[new_data['loan_status']=='Late (16-30 days)'].index)\n",
    "new_data=new_data.drop(new_data[new_data['loan_status']=='Late (31-120 days)'].index)\n",
    "new_data=new_data.drop(new_data[new_data['loan_status']=='In Grace Period'].index)\n",
    "new_data=new_data.drop(new_data[new_data['loan_status']=='Does not meet the credit policy. Status:Fully Paid'].index)\n",
    "new_data=new_data.drop(new_data[new_data['loan_status']=='Does not meet the credit policy. Status:Charged Off'].index)\n"
   ]
  },
  {
   "cell_type": "code",
   "execution_count": null,
   "metadata": {},
   "outputs": [],
   "source": [
    "#volver Target Binario\n",
    "new_data=new_data.replace(regex=['Default','Charged Off'],value='No paid')"
   ]
  },
  {
   "cell_type": "markdown",
   "metadata": {},
   "source": [
    "## Transformaciones para variables de entrada: Limpieza y pre-procesado"
   ]
  },
  {
   "cell_type": "markdown",
   "metadata": {},
   "source": [
    "### Valores nulos:"
   ]
  },
  {
   "cell_type": "code",
   "execution_count": null,
   "metadata": {},
   "outputs": [],
   "source": [
    "#Total de nulos\n",
    "new_data.isnull().sum()"
   ]
  },
  {
   "cell_type": "code",
   "execution_count": null,
   "metadata": {},
   "outputs": [],
   "source": [
    "#Quita nulos\n",
    "new_data= new_data.dropna()"
   ]
  },
  {
   "cell_type": "code",
   "execution_count": null,
   "metadata": {},
   "outputs": [],
   "source": [
    "#Se cree nuevo dataset 'process_data' con los datos procesados\n",
    "process_data=new_data.copy()"
   ]
  },
  {
   "cell_type": "markdown",
   "metadata": {},
   "source": [
    "## Variables no utilizadas:\n",
    "- Variables : id, member_id, url, desc:\n",
    "    Estas variables no son utilizadas porque contienen valores nulos.\n",
    "    \n",
    "    Además, variables como id, o memeber_id llevarían a que el modelo se sobreentrene produciendo así overfitting, lo cual representa un problema a la hora de predecir.\n",
    "    \n",
    "    \n",
    "- Demás variables:\n",
    "    No son utilizadas porque:\n",
    "        - no tienen relevancia en la predicción de la variable de salida.\n",
    "        - son redundantes (Ej.: title y purpose)"
   ]
  },
  {
   "cell_type": "code",
   "execution_count": null,
   "metadata": {},
   "outputs": [],
   "source": [
    "#Quita columnas\n",
    "new_data=new_data.drop(['emp_title','title','disbursement_method','earliest_cr_line','issue_d','last_pymnt_amnt','open_acc','total_bal_ex_mort','tot_coll_amt'],axis=1)"
   ]
  },
  {
   "cell_type": "markdown",
   "metadata": {},
   "source": [
    "### Pre-Procesamiento: Escalar"
   ]
  },
  {
   "cell_type": "code",
   "execution_count": null,
   "metadata": {},
   "outputs": [],
   "source": [
    "#Escalar:funded_amnt,int_rate,installment,annual_inc,total_pymnt,total_coll_amnt,delinq_amnt,dti\n",
    "process_data[['funded_amnt','int_rate','installment','annual_inc','total_pymnt','delinq_amnt','dti']]= minmax_scale(new_data[['funded_amnt','int_rate','installment','annual_inc','total_pymnt','delinq_amnt','dti']])"
   ]
  },
  {
   "cell_type": "markdown",
   "metadata": {},
   "source": [
    "### Pre-procesamiento: One-hot encoder de la variable \"purpose\":"
   ]
  },
  {
   "cell_type": "code",
   "execution_count": null,
   "metadata": {},
   "outputs": [],
   "source": [
    "process_data.purpose.unique()"
   ]
  },
  {
   "cell_type": "code",
   "execution_count": null,
   "metadata": {},
   "outputs": [],
   "source": [
    "#One Hot-Ecoder Variable: Purpose\n",
    "\n",
    "for purpose in process_data.purpose.unique():\n",
    "    process_data[purpose.lower().replace(\" \",\"_\")]= (process_data.purpose==purpose)\n",
    "\n",
    "process_data=process_data.drop(['purpose'],axis=1)\n",
    "\n"
   ]
  },
  {
   "cell_type": "code",
   "execution_count": null,
   "metadata": {},
   "outputs": [],
   "source": [
    "pd.set_option('display.max_columns',None)\n",
    "process_data.head()\n"
   ]
  },
  {
   "cell_type": "code",
   "execution_count": null,
   "metadata": {},
   "outputs": [],
   "source": [
    "#Datos a utilizar\n",
    "new_data.head()"
   ]
  },
  {
   "cell_type": "code",
   "execution_count": null,
   "metadata": {},
   "outputs": [],
   "source": [
    "#Tipo de datos de cada columna\n",
    "new_data.dtypes"
   ]
  },
  {
   "cell_type": "markdown",
   "metadata": {},
   "source": [
    "## Análisis de la variable de salida:\n",
    "### Balanceo:"
   ]
  },
  {
   "cell_type": "code",
   "execution_count": null,
   "metadata": {},
   "outputs": [],
   "source": [
    "#Datos de salida Balanceo de datos\n",
    "\n",
    "import matplotlib.pyplot as plt\n",
    "import numpy as np\n",
    "\n",
    "x=new_data.loan_status.unique()\n",
    "y=new_data.loan_status.value_counts()\n",
    "\n",
    "colors = ['yellowgreen','blue','gold','lightskyblue','coral','grey','pink', 'green','violet']\n",
    "porcent = 100.*y/y.sum()\n",
    "\n",
    "patches, texts = plt.pie(y, colors=colors, startangle=90, radius=3)\n",
    "labels = ['{0} - {1:1.2f} %'.format(i,j) for i,j in zip(x, porcent)]\n",
    "\n",
    "sort_legend = True\n",
    "if sort_legend:\n",
    "    patches, labels, dummy =  zip(*sorted(zip(patches, labels, y),\n",
    "                                          key=lambda x: x[2],\n",
    "                                          reverse=True))\n",
    "\n",
    "plt.legend(patches, labels, loc='left center', bbox_to_anchor=(-0.1, 1.),\n",
    "           fontsize=15)\n",
    "\n",
    "plt.savefig('piechart.png', bbox_inches='tight')"
   ]
  },
  {
   "cell_type": "markdown",
   "metadata": {},
   "source": [
    "**Análisis de blanceo:** como se puede observar en la partir gráfica presentada, los datos están desbalanceados. Claramente se destaca con un 80.2% el porcentaje de préstamos completamente pagos, en comparación con el 19.80% los no pagados.\n",
    "\n",
    "A pesar de ello, era el resultado que esperabamos en función a los datos ya que podemos notar que refleja la verdadera relación entre los posibles valores de nuestro target. Por ello se decidió no descartar el dataset en cuestión.\n",
    "\n",
    "Por otro lado, al tener conocimiento sobre este desbalanceo de los datos, podemos establecer a qué métricas no debemos darles tanta importancia, como es el caso de Accuracy, ya que ésta métrica presenta problemas con este tipo de datasets.\n"
   ]
  },
  {
   "cell_type": "markdown",
   "metadata": {},
   "source": [
    "## Análisis de las variables de entrada:"
   ]
  },
  {
   "cell_type": "code",
   "execution_count": null,
   "metadata": {},
   "outputs": [],
   "source": [
    "#VARIABLE GRADE\n",
    "px.histogram(new_data.sort_index(),x='grade',color='loan_status',barmode='group')\n"
   ]
  },
  {
   "cell_type": "markdown",
   "metadata": {},
   "source": [
    "*Análisis de la variable grade*: \n",
    "\n",
    "En función a la grafica presentada se pueden relizar las siguientes observaciones:\n",
    " - El mayor porcentaje de préstamos pagados se da en aquellos préstamos donde el grado tiene el valor B.\n",
    " \n",
    " \n",
    " - Como se esperaba, la mayor cantidad de préstamos está concentrada en aquellos clientes que estaban clasificados como A, B o C\n",
    " \n",
    " \n",
    " - También podemos observar que aquellos clientes clasificados como F y G fueron los que menos préstamos obtuvieron. \n",
    " \n",
    " En estos casos se destaca la distribución balanceada entre aquellos prestatarios clasificados con el grado G. Aunque cabe destacar que no existe una gran diferencia entre los posibles valores del target también en aquellos clientes clasificados de grado F."
   ]
  },
  {
   "cell_type": "code",
   "execution_count": null,
   "metadata": {},
   "outputs": [],
   "source": [
    "#VARIABLE PURPOSE (CON HOT-ENCODER)\n",
    "\n",
    "px.histogram(new_data.sort_index(),x='purpose',color='loan_status',barmode='group')"
   ]
  },
  {
   "cell_type": "markdown",
   "metadata": {},
   "source": [
    "*Análisis de la variable purpose:*\n",
    "\n",
    "En función a la grafica podemos destacar que:\n",
    "- La mayor porcentaje de los préstamos solicitados tienen como próposito \"consolidar obligaciones\", es decir, aquellos préstamos que son obtenidos para pagar deudas. Además, es poca la cantidad que no son completamente pagados en comparación a los que son pagados.\n",
    "- El porcentaje de préstamos solicitados con proposito educativo es muy pequeño, casi nulo podríamos decir.\n",
    "- La mayor parte de préstamos solicitados para mejoras del hogar, como así también para pagar tarjetas de créditos, son pagados."
   ]
  },
  {
   "cell_type": "code",
   "execution_count": null,
   "metadata": {},
   "outputs": [],
   "source": [
    "#VARIABLE ANNUAL_INC\n",
    "#Crea DataFrame para obtener rangos de ingresos anuales y poder graficar\n",
    "range_inc=pd.DataFrame()\n",
    "range_inc['loan_status']=new_data['loan_status']\n",
    "range_inc['annual_inc']=new_data['annual_inc']\n",
    "range_inc['ranges_inc']=pd.cut(x=range_inc['annual_inc'],bins=[0,25000,50000,75000,100000,125000,150000,1000000],labels=['Entre 0 y 25k','Entre 25k y 50k','Entre 50k y 75k','Entre 75k y 100k','Entre 100k y 125k','Entre 125k y 150k','Mayor a 150k'])\n",
    "\n",
    "\n",
    "px.histogram(range_inc,x='ranges_inc',color='loan_status',barmode='group')\n",
    "\n",
    "\n"
   ]
  },
  {
   "cell_type": "markdown",
   "metadata": {},
   "source": [
    "*Análisis de la variable \"annual_inc\":*\n",
    "\n",
    "A partir del grafico podemos observar que los ingresos anuales de los prestarios se concentran en un rango de 50k y 70k. Aunque esto no parece afectar demasiado al target ya que si analizamos en función a los préstamos no pagados y, comparamos con aquellos clientes donde su ingreso anual varia entre los 25k y 50k, la diferencia es muy pequeña.\n"
   ]
  },
  {
   "cell_type": "code",
   "execution_count": null,
   "metadata": {},
   "outputs": [],
   "source": [
    "#VARIABLE FUNDED_AMNT\n",
    "#Crea DataFrame para obtener rangos de ingresos anuales y poder graficar\n",
    "range_funded_amnt=pd.DataFrame()\n",
    "range_funded_amnt['loan_status']=new_data['loan_status']\n",
    "range_funded_amnt['funded_amnt']=new_data['funded_amnt']\n",
    "range_funded_amnt['ranges_amnt']=pd.cut(x=range_funded_amnt['funded_amnt'],bins=[5000,10000,15000,20000,25000,30000,35000,40000],labels=['Menor a 5k','Entre 5k y 10k','Entre 10k y 15k','Entre 15k y 20k','Entre 20k y 25k','Entre 25k y 30k','Mayor a 35k'])\n",
    "\n",
    "\n",
    "px.histogram(range_funded_amnt,x='ranges_amnt',color='loan_status',barmode='group')\n"
   ]
  },
  {
   "cell_type": "markdown",
   "metadata": {},
   "source": [
    "*Análisis de la variable \"funded_amnt\":*\n",
    "\n",
    "Respecto al gráfico de está variable podemos observar que la mayor parte de los préstamos otorgados se concentra en aquello con un monto menor a 5k , los de montos entre 5k y 10k aunque en menor medida.\n",
    "Si hacemos un análisis respecto a como afecta está variable a nuestro target podemos deducir que el impacto de la misma no es grande en relación a los posibles valores que puede tomar \"load_status\"."
   ]
  },
  {
   "cell_type": "code",
   "execution_count": null,
   "metadata": {},
   "outputs": [],
   "source": [
    "#VARIABLE EMP_LENGTH\n",
    "px.histogram(new_data,x='emp_length',color='loan_status',barmode='group')"
   ]
  },
  {
   "cell_type": "markdown",
   "metadata": {},
   "source": [
    "*Análisi de la variable \"emp_length\":*\n",
    "\n",
    "Respecto a los valores de esta variable podemos observar claramente que el porcentaje de préstamos solicitados por aquellas personas que tienen el mismo empleo hace más de 10 años es mayor en relación a los demás.\n",
    "Además, se descata que aquellos préstamos otorgados a personas que hace 3 años que poseen el mismo empleo presentan una tasa mayor de no pagados."
   ]
  }
 ],
 "metadata": {
  "kernelspec": {
   "display_name": "Python 3",
   "language": "python",
   "name": "python3"
  },
  "language_info": {
   "codemirror_mode": {
    "name": "ipython",
    "version": 3
   },
   "file_extension": ".py",
   "mimetype": "text/x-python",
   "name": "python",
   "nbconvert_exporter": "python",
   "pygments_lexer": "ipython3",
   "version": "3.7.0"
  }
 },
 "nbformat": 4,
 "nbformat_minor": 4
}
